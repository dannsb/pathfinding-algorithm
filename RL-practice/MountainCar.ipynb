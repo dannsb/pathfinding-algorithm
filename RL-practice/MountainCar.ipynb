{
 "cells": [
  {
   "cell_type": "markdown",
   "metadata": {},
   "source": [
    "# Mountain Card RL-Practice"
   ]
  },
  {
   "cell_type": "markdown",
   "metadata": {},
   "source": [
    "### Install required libraries\n",
    "!pip install gym[classic_control] numpy"
   ]
  },
  {
   "cell_type": "markdown",
   "metadata": {},
   "source": [
    "### Import libs"
   ]
  },
  {
   "cell_type": "code",
   "execution_count": 14,
   "metadata": {},
   "outputs": [],
   "source": [
    "import gymnasium as gym\n",
    "import numpy as np"
   ]
  },
  {
   "cell_type": "markdown",
   "metadata": {},
   "source": [
    "### Hyper Parameters"
   ]
  },
  {
   "cell_type": "code",
   "execution_count": 15,
   "metadata": {},
   "outputs": [],
   "source": [
    "learning_rate = 0.1\n",
    "discount_factor = 0.95\n",
    "epsilon = 0.5\n",
    "epsilon_decay = 0.995\n",
    "min_epsilon = 0.01\n",
    "episodes = 5000\n",
    "max_steps = 200"
   ]
  },
  {
   "cell_type": "markdown",
   "metadata": {},
   "source": [
    "### Creating Enviroment & State Space"
   ]
  },
  {
   "cell_type": "code",
   "execution_count": 16,
   "metadata": {},
   "outputs": [],
   "source": [
    "env = gym.make(\"MountainCar-v0\")\n",
    "action_space = env.action_space.n  \n",
    "state_space = tuple((env.observation_space.high - env.observation_space.low) * np.array([10, 100], dtype=int))\n",
    "state_space_size = (int(state_space[0]) + 1, int(state_space[1]) + 1)"
   ]
  },
  {
   "cell_type": "code",
   "execution_count": 17,
   "metadata": {},
   "outputs": [],
   "source": [
    "q_table = np.random.uniform(low=-2, high=0, size=(state_space_size + (action_space,)))"
   ]
  },
  {
   "cell_type": "markdown",
   "metadata": {},
   "source": [
    "### Convert continuous state discrete state"
   ]
  },
  {
   "cell_type": "code",
   "execution_count": 18,
   "metadata": {},
   "outputs": [],
   "source": [
    "def discretize_state(state):\n",
    "    discrete_state = (state - env.observation_space.low) * np.array([10, 100], dtype=int)\n",
    "    return tuple(map(int, discrete_state))  "
   ]
  },
  {
   "cell_type": "markdown",
   "metadata": {},
   "source": [
    "### Q-Learning Algorithm"
   ]
  },
  {
   "cell_type": "code",
   "execution_count": 19,
   "metadata": {},
   "outputs": [
    {
     "name": "stdout",
     "output_type": "stream",
     "text": [
      "Episode: 0, Epsilon: 0.497\n",
      "Episode: 100, Epsilon: 0.301\n",
      "Episode: 200, Epsilon: 0.183\n",
      "Episode: 300, Epsilon: 0.111\n",
      "Episode: 400, Epsilon: 0.067\n",
      "Episode: 500, Epsilon: 0.041\n",
      "Episode: 600, Epsilon: 0.025\n",
      "Episode: 700, Epsilon: 0.015\n",
      "Episode: 800, Epsilon: 0.010\n",
      "Episode: 900, Epsilon: 0.010\n",
      "Episode: 1000, Epsilon: 0.010\n",
      "Episode: 1100, Epsilon: 0.010\n",
      "Episode: 1200, Epsilon: 0.010\n",
      "Episode: 1300, Epsilon: 0.010\n",
      "Episode: 1400, Epsilon: 0.010\n",
      "Episode: 1500, Epsilon: 0.010\n",
      "Episode: 1600, Epsilon: 0.010\n",
      "Episode: 1700, Epsilon: 0.010\n",
      "Episode: 1800, Epsilon: 0.010\n",
      "Episode: 1900, Epsilon: 0.010\n",
      "Episode: 2000, Epsilon: 0.010\n",
      "Episode: 2100, Epsilon: 0.010\n",
      "Episode: 2200, Epsilon: 0.010\n",
      "Episode: 2300, Epsilon: 0.010\n",
      "Episode: 2400, Epsilon: 0.010\n",
      "Episode: 2500, Epsilon: 0.010\n",
      "Episode: 2600, Epsilon: 0.010\n",
      "Episode: 2700, Epsilon: 0.010\n",
      "Episode: 2800, Epsilon: 0.010\n",
      "Episode: 2900, Epsilon: 0.010\n",
      "Episode: 3000, Epsilon: 0.010\n",
      "Episode: 3100, Epsilon: 0.010\n",
      "Episode: 3200, Epsilon: 0.010\n",
      "Episode: 3300, Epsilon: 0.010\n",
      "Episode: 3400, Epsilon: 0.010\n",
      "Episode: 3500, Epsilon: 0.010\n",
      "Episode: 3600, Epsilon: 0.010\n",
      "Episode: 3700, Epsilon: 0.010\n",
      "Episode: 3800, Epsilon: 0.010\n",
      "Episode: 3900, Epsilon: 0.010\n",
      "Episode: 4000, Epsilon: 0.010\n",
      "Episode: 4100, Epsilon: 0.010\n",
      "Episode: 4200, Epsilon: 0.010\n",
      "Episode: 4300, Epsilon: 0.010\n",
      "Episode: 4400, Epsilon: 0.010\n",
      "Episode: 4500, Epsilon: 0.010\n",
      "Episode: 4600, Epsilon: 0.010\n",
      "Episode: 4700, Epsilon: 0.010\n",
      "Episode: 4800, Epsilon: 0.010\n",
      "Episode: 4900, Epsilon: 0.010\n"
     ]
    }
   ],
   "source": [
    "for episode in range(episodes):\n",
    "    state, _ = env.reset()\n",
    "    discrete_state = discretize_state(state)\n",
    "    done = False\n",
    "\n",
    "    for step in range(max_steps):\n",
    "        if np.random.random() < epsilon:\n",
    "            action = np.random.randint(0, action_space)  \n",
    "        else:\n",
    "            action = np.argmax(q_table[discrete_state])  \n",
    "\n",
    "        new_state, reward, done, truncated, _ = env.step(action)\n",
    "        new_discrete_state = discretize_state(new_state)\n",
    "\n",
    "        max_future_q = np.max(q_table[new_discrete_state])\n",
    "        current_q = q_table[discrete_state + (action,)]\n",
    "        new_q = current_q + learning_rate * (reward + discount_factor * max_future_q - current_q)\n",
    "        q_table[discrete_state + (action,)] = new_q\n",
    "\n",
    "        discrete_state = new_discrete_state\n",
    "\n",
    "        if done:\n",
    "            break\n",
    "\n",
    "    epsilon = max(min_epsilon, epsilon * epsilon_decay)\n",
    "\n",
    "    if episode % 100 == 0:\n",
    "        print(f\"Episode: {episode}, Epsilon: {epsilon:.3f}\")\n",
    "\n",
    "env.close()"
   ]
  },
  {
   "cell_type": "markdown",
   "metadata": {},
   "source": [
    "### Result after learning\n",
    "im using render_mode=\"human\" to display GUI of agent learned result."
   ]
  },
  {
   "cell_type": "code",
   "execution_count": 20,
   "metadata": {},
   "outputs": [],
   "source": [
    "env = gym.make(\"MountainCar-v0\", render_mode=\"human\")  \n",
    "state, _ = env.reset()\n",
    "done = False\n",
    "\n",
    "while not done:\n",
    "    env.render()\n",
    "    action = np.argmax(q_table[discretize_state(state)])\n",
    "    state, _, done, _, _ = env.step(action)\n",
    "env.close()\n"
   ]
  }
 ],
 "metadata": {
  "kernelspec": {
   "display_name": "gymenv",
   "language": "python",
   "name": "python3"
  },
  "language_info": {
   "codemirror_mode": {
    "name": "ipython",
    "version": 3
   },
   "file_extension": ".py",
   "mimetype": "text/x-python",
   "name": "python",
   "nbconvert_exporter": "python",
   "pygments_lexer": "ipython3",
   "version": "3.13.1"
  }
 },
 "nbformat": 4,
 "nbformat_minor": 2
}
