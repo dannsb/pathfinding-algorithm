{
 "cells": [
  {
   "cell_type": "markdown",
   "metadata": {},
   "source": [
    "# A* for Shiraz to Tehran"
   ]
  },
  {
   "cell_type": "markdown",
   "metadata": {},
   "source": [
    "### import required libs"
   ]
  },
  {
   "cell_type": "code",
   "execution_count": 13,
   "metadata": {},
   "outputs": [],
   "source": [
    "from heapq import heappop, heappush\n",
    "from time import time"
   ]
  },
  {
   "cell_type": "markdown",
   "metadata": {},
   "source": [
    "### add cities graph & heuristic\n",
    "i got this from ChatGPT, numbers can changes."
   ]
  },
  {
   "cell_type": "code",
   "execution_count": 14,
   "metadata": {},
   "outputs": [],
   "source": [
    "\n",
    "graph = {\n",
    "    \"Shiraz\": {\"Isfahan\": 450, \"Ahvaz\": 520},\n",
    "    \"Isfahan\": {\"Shiraz\": 450, \"Ahvaz\": 480, \"Yazd\": 320, \"Qom\": 220},\n",
    "    \"Ahvaz\": {\"Shiraz\": 520, \"Isfahan\": 480},\n",
    "    \"Yazd\": {\"Isfahan\": 320, \"Qom\": 340},\n",
    "    \"Qom\": {\"Isfahan\": 220, \"Yazd\": 340, \"Tehran\": 150},\n",
    "    \"Tehran\": {\"Qom\": 150},\n",
    "}\n",
    "\n",
    "heuristic = {\n",
    "    \"Shiraz\": 900,\n",
    "    \"Isfahan\": 340,\n",
    "    \"Yazd\": 400,\n",
    "    \"Ahvaz\": 650,\n",
    "    \"Qom\": 150,\n",
    "    \"Tehran\": 0,\n",
    "}"
   ]
  },
  {
   "cell_type": "markdown",
   "metadata": {},
   "source": [
    "### initialize variables and queue"
   ]
  },
  {
   "cell_type": "code",
   "execution_count": 19,
   "metadata": {},
   "outputs": [],
   "source": [
    "priorityQueue = []\n",
    "visited = []\n",
    "targetNode = \"Tehran\"\n",
    "initNode = \"Shiraz\"\n",
    "initH = heuristic[initNode]\n",
    "initF = 0 + initH\n",
    "initG = 0"
   ]
  },
  {
   "cell_type": "markdown",
   "metadata": {},
   "source": [
    "add init node and f(n) to queue"
   ]
  },
  {
   "cell_type": "code",
   "execution_count": 16,
   "metadata": {},
   "outputs": [],
   "source": [
    "heappush(\n",
    "    priorityQueue,\n",
    "    (\n",
    "        initF,\n",
    "        initNode,\n",
    "        initG,\n",
    "    ),\n",
    ")"
   ]
  },
  {
   "cell_type": "markdown",
   "metadata": {},
   "source": [
    "### A* Algorithm Implementation"
   ]
  },
  {
   "cell_type": "code",
   "execution_count": 17,
   "metadata": {},
   "outputs": [],
   "source": [
    "startTime = time()\n",
    "while priorityQueue:\n",
    "    # heappop() : Pop the smallest item based on first element by default\n",
    "    f, activeNode, g = heappop(priorityQueue)\n",
    "\n",
    "    if activeNode in visited:\n",
    "        continue\n",
    "\n",
    "    visited.append(activeNode)\n",
    "\n",
    "    if activeNode == targetNode:\n",
    "        break\n",
    "\n",
    "    for nearCity, distance in graph[activeNode].items():\n",
    "        if nearCity not in visited:\n",
    "            newG = g + distance\n",
    "            h = heuristic[nearCity]\n",
    "            f = newG + h\n",
    "            heappush(\n",
    "                priorityQueue,\n",
    "                (\n",
    "                    f,\n",
    "                    nearCity,\n",
    "                    newG,\n",
    "                ),\n",
    "            )\n",
    "\n",
    "endTime = time()"
   ]
  },
  {
   "cell_type": "markdown",
   "metadata": {},
   "source": [
    "### Result"
   ]
  },
  {
   "cell_type": "code",
   "execution_count": 18,
   "metadata": {},
   "outputs": [
    {
     "name": "stdout",
     "output_type": "stream",
     "text": [
      "Time taken: 0.0001816750 seconds\n",
      "Route-> ['Shiraz', 'Isfahan', 'Qom', 'Tehran']\n"
     ]
    }
   ],
   "source": [
    "print(f\"Time taken: {endTime - startTime:.10f} seconds\")\n",
    "print(f\"Route-> {visited}\")"
   ]
  }
 ],
 "metadata": {
  "kernelspec": {
   "display_name": "Python 3",
   "language": "python",
   "name": "python3"
  },
  "language_info": {
   "codemirror_mode": {
    "name": "ipython",
    "version": 3
   },
   "file_extension": ".py",
   "mimetype": "text/x-python",
   "name": "python",
   "nbconvert_exporter": "python",
   "pygments_lexer": "ipython3",
   "version": "3.12.3"
  }
 },
 "nbformat": 4,
 "nbformat_minor": 2
}
