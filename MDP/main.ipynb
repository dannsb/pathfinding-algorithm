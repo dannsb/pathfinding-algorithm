{
 "cells": [
  {
   "cell_type": "markdown",
   "metadata": {},
   "source": [
    "## MDP"
   ]
  },
  {
   "cell_type": "markdown",
   "metadata": {},
   "source": [
    "### initializing  "
   ]
  },
  {
   "cell_type": "code",
   "execution_count": 1,
   "metadata": {},
   "outputs": [],
   "source": [
    "import numpy as np\n",
    "\n",
    "actions=[\"Left\", \"Right\",\"Load\",\"Unload\"]\n",
    "states = [\"1U\",\"2U\",\"3U\",\"1L\",\"2L\",\"3L\"]\n",
    "\n",
    "actionIndices=dict(zip(actions, range(len(actions))))\n",
    "stateIndices = dict(zip(states, range(len(states))))"
   ]
  },
  {
   "cell_type": "markdown",
   "metadata": {},
   "source": [
    "### transition and probabilities function"
   ]
  },
  {
   "cell_type": "code",
   "execution_count": 2,
   "metadata": {},
   "outputs": [],
   "source": [
    "TLeft = np.array([\n",
    "    [1, 0, 0, 0, 0, 0],\n",
    "    [0.9, 0.1, 0, 0, 0, 0],\n",
    "    [0, 0.9, 0.1, 0, 0, 0],\n",
    "    [1, 0, 0, 0, 0, 0],\n",
    "    [0.9, 0.1, 0, 0, 0, 0],\n",
    "    [0, 0.9, 0.1, 0, 0, 0]\n",
    "])\n",
    "\n",
    "TRight = np.array([\n",
    "    [0.1, 0.9, 0, 0, 0, 0],\n",
    "    [0, 0.1, 0.9, 0, 0, 0],\n",
    "    [0, 0, 1, 0, 0, 0],\n",
    "    [0.1, 0.9, 0, 0, 0, 0],\n",
    "    [0, 0.1, 0.9, 0, 0, 0],\n",
    "    [0, 0, 1, 0, 0, 0]\n",
    "])\n",
    "\n",
    "TLoad = np.array([\n",
    "    [0, 0, 0, 1, 0, 0],\n",
    "    [0, 0, 0, 0, 1, 0],\n",
    "    [0, 0, 0, 0, 0, 1],\n",
    "    [1, 0, 0, 0, 0, 0],\n",
    "    [0, 1, 0, 0, 0, 0],\n",
    "    [0, 0, 1, 0, 0, 0]\n",
    "])\n",
    "\n",
    "TUnload= np.array([\n",
    "    [1, 0, 0, 0, 0, 0],\n",
    "    [0, 1, 0, 0, 0, 0],\n",
    "    [0, 0, 1, 0, 0, 0],\n",
    "    [0, 0, 0, 1, 0, 0],\n",
    "    [0, 0, 0, 0, 1, 0],\n",
    "    [0, 0, 0, 0, 0, 1]\n",
    "])"
   ]
  },
  {
   "cell_type": "code",
   "execution_count": 3,
   "metadata": {},
   "outputs": [],
   "source": [
    "actionMatrices = {\n",
    "    \"Left\": TLeft,\n",
    "    \"Right\": TRight,\n",
    "    \"Load\": TLoad,\n",
    "    \"Unload\": TUnload\n",
    "}"
   ]
  },
  {
   "cell_type": "code",
   "execution_count": 4,
   "metadata": {},
   "outputs": [],
   "source": [
    "def transition(state, action):\n",
    "    currentIdx = stateIndices[state]\n",
    "    probabilities = actionMatrices[action][currentIdx]\n",
    "    transitionList=[]\n",
    "    for idx, prob in enumerate(probabilities):\n",
    "        transitionList.append((states[idx], prob))\n",
    "    return transitionList"
   ]
  },
  {
   "cell_type": "markdown",
   "metadata": {},
   "source": [
    "### reward function"
   ]
  },
  {
   "cell_type": "code",
   "execution_count": 5,
   "metadata": {},
   "outputs": [],
   "source": [
    "Reward = np.array([\n",
    "    [0, 0, 0, 0],\n",
    "    [0, 0, 0, 0],\n",
    "    [0, 0, 0, 0],\n",
    "    [0, 0, 0, 0],\n",
    "    [0, 0, 0, 0],\n",
    "    [0, 0, 0, 10]\n",
    "])\n",
    "\n",
    "def reward(state,action):\n",
    "    return Reward[stateIndices[state],actionIndices[action]]"
   ]
  },
  {
   "cell_type": "markdown",
   "metadata": {},
   "source": [
    "### update Q using Bellman equation <br/>\n",
    "#### Q*(s, a) = R(s, a) + γ ∑<sub>s'∈S</sub> p(s'|s, a) max<sub>a'∈A</sub> Q*(s', a')."
   ]
  },
  {
   "cell_type": "code",
   "execution_count": 6,
   "metadata": {},
   "outputs": [],
   "source": [
    "gamma=0.95\n",
    "\n",
    "def Q(state, action, QValues):\n",
    "    stateIdx = stateIndices[state]\n",
    "    actionIdx = actionIndices[action]\n",
    "    \n",
    "    currentStateReward = Reward[stateIdx, actionIdx]\n",
    "    \n",
    "    transitionProbs = transition(state, action)\n",
    "    \n",
    "\n",
    "    futureValue = 0\n",
    "    for nextState, prob in transitionProbs:\n",
    "        nextStateIdx = stateIndices[nextState]\n",
    "        if prob > 0: \n",
    "            maxQNext = max(QValues[nextStateIdx])  \n",
    "            futureValue += prob * maxQNext\n",
    "    \n",
    "    return currentStateReward + gamma * futureValue\n",
    "\n",
    "def updateQ(QValues):\n",
    "    for state in states:\n",
    "        for action in actions:\n",
    "            QValues[stateIndices[state], actionIndices[action]] = Q(state, action, QValues)\n",
    "    return QValues\n",
    "\n"
   ]
  },
  {
   "cell_type": "markdown",
   "metadata": {},
   "source": [
    "### Result and Optimal Policy for states"
   ]
  },
  {
   "cell_type": "code",
   "execution_count": 7,
   "metadata": {},
   "outputs": [
    {
     "name": "stdout",
     "output_type": "stream",
     "text": [
      "Optimal Policy:\n",
      "State 1U: Right\n",
      "State 2U: Right\n",
      "State 3U: Load\n",
      "State 1L: Right\n",
      "State 2L: Right\n",
      "State 3L: Unload\n"
     ]
    }
   ],
   "source": [
    "QValues = np.zeros((len(states), len(actions)))\n",
    "\n",
    "for iteration in range(1000):  \n",
    "    QValues = updateQ(QValues)\n",
    "\n",
    "print(\"Optimal Policy:\")\n",
    "for state in states:\n",
    "    bestActionIdx = np.argmax(QValues[stateIndices[state], :])\n",
    "    bestAction = actions[bestActionIdx]\n",
    "    print(f\"State {state}: {bestAction}\")\n"
   ]
  }
 ],
 "metadata": {
  "kernelspec": {
   "display_name": "venv",
   "language": "python",
   "name": "python3"
  },
  "language_info": {
   "codemirror_mode": {
    "name": "ipython",
    "version": 3
   },
   "file_extension": ".py",
   "mimetype": "text/x-python",
   "name": "python",
   "nbconvert_exporter": "python",
   "pygments_lexer": "ipython3",
   "version": "3.12.3"
  }
 },
 "nbformat": 4,
 "nbformat_minor": 2
}
